{
  "nbformat": 4,
  "nbformat_minor": 0,
  "metadata": {
    "colab": {
      "name": "Linear model TF.ipynb",
      "version": "0.3.2",
      "provenance": [],
      "private_outputs": true,
      "collapsed_sections": [],
      "toc_visible": true
    },
    "kernelspec": {
      "display_name": "Python 3",
      "name": "python3"
    }
  },
  "cells": [
    {
      "cell_type": "markdown",
      "metadata": {
        "colab_type": "text",
        "id": "C81KT2D_j-xR"
      },
      "source": [
        "# Logistic regression model"
      ]
    },
    {
      "cell_type": "markdown",
      "metadata": {
        "colab_type": "text",
        "id": "tUP8LMdYtWPz"
      },
      "source": [
        "## Overview\n",
        "\n",
        "Logistic regression model example using Tensorflow 2.0 and `tf.estimator` API.\n"
      ]
    },
    {
      "cell_type": "markdown",
      "metadata": {
        "colab_type": "text",
        "id": "vkC_j6VpqrDw"
      },
      "source": [
        "## Setup"
      ]
    },
    {
      "cell_type": "code",
      "metadata": {
        "colab_type": "code",
        "id": "rutbJGmpqvm3",
        "colab": {}
      },
      "source": [
        "%%capture\n",
        "!pip install sklearn"
      ],
      "execution_count": 0,
      "outputs": []
    },
    {
      "cell_type": "code",
      "metadata": {
        "colab_type": "code",
        "id": "54mb4J9PqqDh",
        "colab": {}
      },
      "source": [
        "from __future__ import absolute_import, division, print_function, unicode_literals\n",
        "\n",
        "import os\n",
        "import sys\n",
        "\n",
        "import numpy as np\n",
        "import pandas as pd\n",
        "import matplotlib.pyplot as plt\n",
        "from IPython.display import clear_output\n",
        "from six.moves import urllib"
      ],
      "execution_count": 0,
      "outputs": []
    },
    {
      "cell_type": "code",
      "metadata": {
        "colab_type": "code",
        "id": "bNiwh-APcRVD",
        "colab": {}
      },
      "source": [
        "%%capture\n",
        "!pip install tensorflow==2.0.0-alpha0\n",
        "\n",
        "import tensorflow.compat.v2.feature_column as fc\n",
        "import tensorflow as tf"
      ],
      "execution_count": 0,
      "outputs": []
    },
    {
      "cell_type": "markdown",
      "metadata": {
        "colab_type": "text",
        "id": "fsjkwfsGOBMT"
      },
      "source": [
        "## Load and preview the dataset\n"
      ]
    },
    {
      "cell_type": "markdown",
      "metadata": {
        "id": "Y-PzgwgiQKWJ",
        "colab_type": "text"
      },
      "source": [
        "**Datset source:** UCI Machine Learning repository\n",
        "\n",
        "**Dataset description:** The data about financial institution customers and their responses for the marketing campaign. The goal (y) is to predict if the client will subscribe (1) or not (0) for a term deposit after receive call from the marketer."
      ]
    },
    {
      "cell_type": "code",
      "metadata": {
        "id": "Yv1UE65XP8PZ",
        "colab_type": "code",
        "colab": {}
      },
      "source": [
        "# Download dataset\n",
        "dataset_url='https://raw.githubusercontent.com/madmashup/targeted-marketing-predictive-engine/master/banking.csv'\n",
        "dataset=pd.read_csv(dataset_url, header=0)"
      ],
      "execution_count": 0,
      "outputs": []
    },
    {
      "cell_type": "code",
      "metadata": {
        "id": "aOiTKP0H6GML",
        "colab_type": "code",
        "colab": {}
      },
      "source": [
        "dataset.dtypes"
      ],
      "execution_count": 0,
      "outputs": []
    },
    {
      "cell_type": "code",
      "metadata": {
        "id": "jR1udK9SQCkE",
        "colab_type": "code",
        "colab": {}
      },
      "source": [
        "# Preview dataset\n",
        "dataset.head()"
      ],
      "execution_count": 0,
      "outputs": []
    },
    {
      "cell_type": "markdown",
      "metadata": {
        "colab_type": "text",
        "id": "jjm4Qj0u7_cp"
      },
      "source": [
        "## Explore the data"
      ]
    },
    {
      "cell_type": "code",
      "metadata": {
        "id": "6z9OnPymQijp",
        "colab_type": "code",
        "colab": {}
      },
      "source": [
        "print(dataset.shape)"
      ],
      "execution_count": 0,
      "outputs": []
    },
    {
      "cell_type": "markdown",
      "metadata": {
        "id": "O79cS0rVAqzs",
        "colab_type": "text"
      },
      "source": [
        "The dataset contains 41188 rows with 10 numerical and 10 categorical variables."
      ]
    },
    {
      "cell_type": "code",
      "metadata": {
        "colab_type": "code",
        "id": "y86q1fj44lZs",
        "colab": {}
      },
      "source": [
        "dataset.describe()"
      ],
      "execution_count": 0,
      "outputs": []
    },
    {
      "cell_type": "code",
      "metadata": {
        "id": "jSTlhwnWRJx6",
        "colab_type": "code",
        "colab": {}
      },
      "source": [
        "# Data exploration\n",
        "dataset['y'].hist(grid=False)"
      ],
      "execution_count": 0,
      "outputs": []
    },
    {
      "cell_type": "markdown",
      "metadata": {
        "colab_type": "text",
        "id": "UrQzxKKh4d6u"
      },
      "source": [
        "In the dataset we have more clients which were not decided for long term loan."
      ]
    },
    {
      "cell_type": "code",
      "metadata": {
        "colab_type": "code",
        "id": "RYeCMm7K40ZN",
        "colab": {}
      },
      "source": [
        "dataset.age.hist(bins=20,grid=False)"
      ],
      "execution_count": 0,
      "outputs": []
    },
    {
      "cell_type": "markdown",
      "metadata": {
        "colab_type": "text",
        "id": "DItSwJ_B5B0f"
      },
      "source": [
        "Dataset also contains the biggest representation of group 30-45 years old."
      ]
    },
    {
      "cell_type": "code",
      "metadata": {
        "colab_type": "code",
        "id": "dgpJVeCq5Fgd",
        "colab": {}
      },
      "source": [
        "dataset['job'].value_counts().plot(kind='barh')"
      ],
      "execution_count": 0,
      "outputs": []
    },
    {
      "cell_type": "markdown",
      "metadata": {
        "id": "j2qQNGHNN1ic",
        "colab_type": "text"
      },
      "source": [
        "We have also the biggest represenation of administrative jobs."
      ]
    },
    {
      "cell_type": "markdown",
      "metadata": {
        "id": "iOCIAsOiBOqI",
        "colab_type": "text"
      },
      "source": [
        "## Split to train and test datasets"
      ]
    },
    {
      "cell_type": "markdown",
      "metadata": {
        "id": "n8qnpY3OFrAJ",
        "colab_type": "text"
      },
      "source": [
        "We'll split dataset for 70% training and 30% evaluation subsets."
      ]
    },
    {
      "cell_type": "code",
      "metadata": {
        "id": "1yGVON5BYlK3",
        "colab_type": "code",
        "colab": {}
      },
      "source": [
        "from sklearn.model_selection import train_test_split\n",
        "\n",
        "x = dataset.loc[:, dataset.columns != 'y']\n",
        "y = dataset.pop('y')\n",
        "\n",
        "x_train, x_test, y_train, y_test = train_test_split(x, y, test_size=0.3, random_state=0)"
      ],
      "execution_count": 0,
      "outputs": []
    },
    {
      "cell_type": "code",
      "metadata": {
        "id": "AxSajz6VZHB0",
        "colab_type": "code",
        "colab": {}
      },
      "source": [
        "print(x_train.shape)\n",
        "print(x_test.shape)\n",
        "print(y_train.shape)\n",
        "print(y_test.shape)"
      ],
      "execution_count": 0,
      "outputs": []
    },
    {
      "cell_type": "markdown",
      "metadata": {
        "colab_type": "text",
        "id": "VqDKQLZn8L-B"
      },
      "source": [
        "## Feature Engineering for the Model\n",
        "Estimators use a [feature columns](https://www.tensorflow.org/guide/feature_columns) to provide features type description.\n",
        "\n",
        "For categorical columns we'll apply One-Hot Encoding and we'll cast numerical values to common type `float32`.\n",
        "\n"
      ]
    },
    {
      "cell_type": "code",
      "metadata": {
        "colab_type": "code",
        "id": "GpveXYSsADS6",
        "colab": {}
      },
      "source": [
        "CATEGORICAL_COLUMNS = ['job',\n",
        "                        'marital',\n",
        "                        'education',\n",
        "                        'housing',\n",
        "                        'loan',\n",
        "                        'month',\n",
        "                        'poutcome'\n",
        "                      ]\n",
        "NUMERIC_COLUMNS = ['age', \n",
        "                   'duration',\n",
        "                  'pdays',\n",
        "                  'previous',\n",
        "                  'emp_var_rate',\n",
        "                  'euribor3m',\n",
        "                  'nr_employed'\n",
        "                  ]\n",
        "\n",
        "feature_columns = []\n",
        "for feature_name in CATEGORICAL_COLUMNS:\n",
        "  vocabulary = x_train[feature_name].unique()\n",
        "  feature_columns.append(tf.feature_column.categorical_column_with_vocabulary_list(feature_name, vocabulary))\n",
        "\n",
        "for feature_name in NUMERIC_COLUMNS:\n",
        "  feature_columns.append(tf.feature_column.numeric_column(feature_name, dtype=tf.float32))"
      ],
      "execution_count": 0,
      "outputs": []
    },
    {
      "cell_type": "code",
      "metadata": {
        "id": "HnnB4DPVsM4H",
        "colab_type": "code",
        "colab": {}
      },
      "source": [
        "# Print prepared feature columns\n",
        "feature_columns"
      ],
      "execution_count": 0,
      "outputs": []
    },
    {
      "cell_type": "code",
      "metadata": {
        "colab_type": "code",
        "id": "qVtrIHFnAe7w",
        "colab": {}
      },
      "source": [
        "def make_input_fn(data_df, label_df, num_epochs=10, shuffle=True, batch_size=32):\n",
        "  def input_function():\n",
        "    \"\"\"\n",
        "    Convert data to a tf.data.Dataset in streaming way\n",
        "    \"\"\"\n",
        "    ds = tf.data.Dataset.from_tensor_slices((dict(data_df), label_df))\n",
        "    if shuffle:\n",
        "      ds = ds.shuffle(1000)\n",
        "    ds = ds.batch(batch_size).repeat(num_epochs)\n",
        "    return ds\n",
        "  return input_function\n",
        "\n",
        "train_input_fn = make_input_fn(x_train, y_train)\n",
        "eval_input_fn = make_input_fn(x_test, y_test, num_epochs=1, shuffle=False)"
      ],
      "execution_count": 0,
      "outputs": []
    },
    {
      "cell_type": "markdown",
      "metadata": {
        "id": "ZqU8ZuqjHyCG",
        "colab_type": "text"
      },
      "source": [
        "Preview prepared dataset: feature names, feature values, labels."
      ]
    },
    {
      "cell_type": "code",
      "metadata": {
        "colab_type": "code",
        "id": "8ZcG_3KiCb1M",
        "colab": {}
      },
      "source": [
        "ds = make_input_fn(x_train, y_train, batch_size=10)()\n",
        "\n",
        "for feature_batch, label_batch in ds.take(1):\n",
        "  print('Some feature keys:', list(feature_batch.keys()))\n",
        "  print()\n",
        "  print('A batch of catgorical feature values:', feature_batch['job'].numpy())\n",
        "  print()\n",
        "  print('A batch of Labels:', label_batch.numpy())"
      ],
      "execution_count": 0,
      "outputs": []
    },
    {
      "cell_type": "markdown",
      "metadata": {
        "id": "D1_sXOBAIOfS",
        "colab_type": "text"
      },
      "source": [
        "## Model training"
      ]
    },
    {
      "cell_type": "markdown",
      "metadata": {
        "colab_type": "text",
        "id": "MEp59g5UkHYY"
      },
      "source": [
        "After added features to the dataset, we can train the model."
      ]
    },
    {
      "cell_type": "code",
      "metadata": {
        "colab_type": "code",
        "id": "aGXjdnqqdgIs",
        "colab": {}
      },
      "source": [
        "linear_est = tf.estimator.LinearClassifier(feature_columns=feature_columns)\n",
        "linear_est.train(train_input_fn)\n",
        "\n",
        "clear_output()"
      ],
      "execution_count": 0,
      "outputs": []
    },
    {
      "cell_type": "markdown",
      "metadata": {
        "id": "nOUCQE0TIWZL",
        "colab_type": "text"
      },
      "source": [
        "## Model evaluation"
      ]
    },
    {
      "cell_type": "code",
      "metadata": {
        "id": "kCLUDGAvIUhI",
        "colab_type": "code",
        "colab": {}
      },
      "source": [
        "result = linear_est.evaluate(eval_input_fn)\n",
        "result"
      ],
      "execution_count": 0,
      "outputs": []
    },
    {
      "cell_type": "markdown",
      "metadata": {
        "id": "M6prVRymLeo_",
        "colab_type": "text"
      },
      "source": [
        "Trained model has 91% accuracy."
      ]
    },
    {
      "cell_type": "code",
      "metadata": {
        "id": "brxO587RwpDJ",
        "colab_type": "code",
        "colab": {}
      },
      "source": [
        "linear_est.get_variable_names()"
      ],
      "execution_count": 0,
      "outputs": []
    },
    {
      "cell_type": "markdown",
      "metadata": {
        "id": "LA5lqQ4jLrvz",
        "colab_type": "text"
      },
      "source": [
        "## Make prediction"
      ]
    },
    {
      "cell_type": "markdown",
      "metadata": {
        "colab_type": "text",
        "id": "8_eyb9d-ncjH"
      },
      "source": [
        "Make prediction on the evaluation set using `linear_est.predict(eval_input_fn)`.\n",
        "Plot the histogram of predicted labels.\n",
        "\n"
      ]
    },
    {
      "cell_type": "code",
      "metadata": {
        "colab_type": "code",
        "id": "wiScyBcef6Dq",
        "colab": {}
      },
      "source": [
        "pred_dicts = list(linear_est.predict(eval_input_fn))\n",
        "probs = pd.Series([pred['probabilities'][1] for pred in pred_dicts])\n",
        "\n",
        "probs.plot(kind='hist', bins=20, title='predicted probabilities')"
      ],
      "execution_count": 0,
      "outputs": []
    },
    {
      "cell_type": "markdown",
      "metadata": {
        "colab_type": "text",
        "id": "UEHRCd4sqrLs"
      },
      "source": [
        "We'll plot receiver operating characteristic (ROC) of the results, to analyze the tradeoff between true positive and false positive rate."
      ]
    },
    {
      "cell_type": "code",
      "metadata": {
        "colab_type": "code",
        "id": "kqEjsezIokIe",
        "colab": {}
      },
      "source": [
        "from sklearn.metrics import roc_curve\n",
        "from matplotlib import pyplot as plt\n",
        "\n",
        "fpr, tpr, _ = roc_curve(y_test, probs)\n",
        "plt.plot(fpr, tpr)\n",
        "plt.title('ROC curve')\n",
        "plt.xlabel('false positive rate')\n",
        "plt.ylabel('true positive rate')\n",
        "plt.xlim(0,)\n",
        "plt.ylim(0,)"
      ],
      "execution_count": 0,
      "outputs": []
    }
  ]
}